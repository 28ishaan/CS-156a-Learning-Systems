{
  "nbformat": 4,
  "nbformat_minor": 0,
  "metadata": {
    "colab": {
      "provenance": []
    },
    "kernelspec": {
      "name": "python3",
      "display_name": "Python 3"
    },
    "language_info": {
      "name": "python"
    }
  },
  "cells": [
    {
      "cell_type": "markdown",
      "source": [
        "# Validation"
      ],
      "metadata": {
        "id": "G9L-TpERygSp"
      }
    },
    {
      "cell_type": "code",
      "source": [
        "import math\n",
        "import numpy"
      ],
      "metadata": {
        "id": "3JNZqH9TG-Rb"
      },
      "execution_count": null,
      "outputs": []
    },
    {
      "cell_type": "code",
      "source": [
        "def read_file(filename):\n",
        "    file = open(filename)\n",
        "    data = []\n",
        "    for line in file:\n",
        "        data.append(list(map(float, filter(bool, line.split()))))\n",
        "    return data\n",
        "\n",
        "def phi(data, k):\n",
        "    transformed_data = []\n",
        "    for x1, x2, y in data:\n",
        "        transformed_data.append(transform(x1, x2, y, k))\n",
        "    return transformed_data\n",
        "\n",
        "def transform(x1, x2, y, k):\n",
        "    return ((1, x1, x2, x1**2, x2**2, x1*x2, abs(x1-x2), abs(x1+x2))[:k+1], y)\n",
        "\n",
        "def g(weight, x):\n",
        "    return numpy.sign(numpy.dot(weight, x))\n",
        "\n",
        "def split(data, N=25):\n",
        "    return (data[:N], data[N:])\n",
        "\n",
        "def w_lin(data):\n",
        "    Z, y = zip(*data)\n",
        "    return numpy.dot(numpy.linalg.pinv(Z), y)\n",
        "\n",
        "def error(weight, data):\n",
        "    sum_error = 0\n",
        "    Z, Y = zip(*data)\n",
        "    for i in range(len(Y)):\n",
        "        hypothesis = g(weight, Z[i])\n",
        "        if (hypothesis != Y[i]):\n",
        "            sum_error += 1\n",
        "    return sum_error/float(len(Y))\n",
        "\n",
        "def experiment(k, N=25, reversed=False):\n",
        "    input_data = read_file(\"in.txt\")\n",
        "    output_data = read_file(\"out.txt\")\n",
        "    phi_in = phi(input_data, k)\n",
        "    phi_out = phi(output_data, k)\n",
        "    if reversed:\n",
        "        validation, training = split(phi_in, N)\n",
        "    else:\n",
        "        training, validation = split(phi_in, N)\n",
        "    linear_weight = w_lin(training)\n",
        "\n",
        "    input_error = error(linear_weight, training)\n",
        "    validation_error = error(linear_weight, validation)\n",
        "    output_error = error(linear_weight, phi_out)\n",
        "    return input_error, validation_error, output_error"
      ],
      "metadata": {
        "id": "OBsg8YxUSnRd"
      },
      "execution_count": null,
      "outputs": []
    },
    {
      "cell_type": "code",
      "source": [
        "print(\"(In sample, Validation, Out of Sample): \")\n",
        "for k in range(3, 8):\n",
        "    print(f'k: {k} -- {experiment(k, N=25, reversed=False)}')"
      ],
      "metadata": {
        "colab": {
          "base_uri": "https://localhost:8080/"
        },
        "id": "YpEZM9RUfm9A",
        "outputId": "5fa060c9-cf86-4edc-f617-14a09cc04e95"
      },
      "execution_count": null,
      "outputs": [
        {
          "output_type": "stream",
          "name": "stdout",
          "text": [
            "(In sample, Validation, Out of Sample): \n",
            "k: 3 -- (0.44, 0.3, 0.42)\n",
            "k: 4 -- (0.32, 0.5, 0.416)\n",
            "k: 5 -- (0.08, 0.2, 0.188)\n",
            "k: 6 -- (0.04, 0.0, 0.084)\n",
            "k: 7 -- (0.04, 0.1, 0.072)\n"
          ]
        }
      ]
    },
    {
      "cell_type": "markdown",
      "source": [
        "1. d. For k = 6, the classification error is the smallest on the validation set."
      ],
      "metadata": {
        "id": "HvGTTAdGyxYP"
      }
    },
    {
      "cell_type": "markdown",
      "source": [
        "2. e. For k = 7, the out of sample classification error is smallest.\n"
      ],
      "metadata": {
        "id": "LsXrsRXYyyB2"
      }
    },
    {
      "cell_type": "code",
      "source": [
        "print(\"(In sample, Validation, Out of Sample): \")\n",
        "for k in range(3, 8):\n",
        "    print(f'k: {k} -- {experiment(k, N=25, reversed=True)}')"
      ],
      "metadata": {
        "colab": {
          "base_uri": "https://localhost:8080/"
        },
        "id": "ic7S4W2XfnzZ",
        "outputId": "6adebc96-950b-4d03-fe41-81ff6116b56d"
      },
      "execution_count": null,
      "outputs": [
        {
          "output_type": "stream",
          "name": "stdout",
          "text": [
            "(In sample, Validation, Out of Sample): \n",
            "k: 3 -- (0.4, 0.28, 0.396)\n",
            "k: 4 -- (0.3, 0.36, 0.388)\n",
            "k: 5 -- (0.2, 0.2, 0.284)\n",
            "k: 6 -- (0.0, 0.08, 0.192)\n",
            "k: 7 -- (0.0, 0.12, 0.196)\n"
          ]
        }
      ]
    },
    {
      "cell_type": "markdown",
      "source": [
        "3. d. For k = 6, the classification error is the smallest on th validation set."
      ],
      "metadata": {
        "id": "CsnPN2JPy0TX"
      }
    },
    {
      "cell_type": "markdown",
      "source": [
        "4. d. For k = 6, the out of sample classification error is the smallest."
      ],
      "metadata": {
        "id": "9zlX3Hw6y18-"
      }
    },
    {
      "cell_type": "markdown",
      "source": [
        "5. b. The closest values are 0.1, 0.2"
      ],
      "metadata": {
        "id": "hs43auxcy4TT"
      }
    },
    {
      "cell_type": "markdown",
      "source": [
        "# Validation Bias"
      ],
      "metadata": {
        "id": "TXUE_wN1yi48"
      }
    },
    {
      "cell_type": "code",
      "source": [
        "import random\n",
        "e1 = [random.uniform(0,1) for x in range(10000)]\n",
        "e2 = [random.uniform(0,1) for x in range(10000)]\n",
        "e = [min(x,y) for x, y in zip(e1, e2)]\n",
        "\n",
        "e1_avg = sum(e1)/len(e1)\n",
        "e2_avg = sum(e2)/len(e2)\n",
        "e_avg = sum(e)/len(e)\n",
        "\n",
        "print(f'e1: {e1_avg}, e2: {e2_avg}, e: {e_avg}')"
      ],
      "metadata": {
        "colab": {
          "base_uri": "https://localhost:8080/"
        },
        "id": "cdlnknADhCDg",
        "outputId": "e16874fb-78cf-454b-bd28-4e2c919ca4c9"
      },
      "execution_count": null,
      "outputs": [
        {
          "output_type": "stream",
          "name": "stdout",
          "text": [
            "e1: 0.5023633693791428, e2: 0.49839583595692594, e: 0.33394086689856006\n"
          ]
        }
      ]
    },
    {
      "cell_type": "markdown",
      "source": [
        "6. d. The expected value for two independent random variables, distributed uniformly over [0,1] is 0.5 for both. The minimum of these random variables would be 1/3. 0.4 is closest."
      ],
      "metadata": {
        "id": "hgm0Kw1iy7I7"
      }
    },
    {
      "cell_type": "markdown",
      "source": [
        "# Cross Validation"
      ],
      "metadata": {
        "id": "cVQ3UdWnyoCD"
      }
    },
    {
      "cell_type": "code",
      "source": [
        "import numpy as np"
      ],
      "metadata": {
        "id": "ImyFF4p8Ig3Y"
      },
      "execution_count": null,
      "outputs": []
    },
    {
      "cell_type": "code",
      "source": [
        "def small_transform(data, k):\n",
        "  output = np.zeros((len(data), k + 1))\n",
        "  for i in range(len(data)):\n",
        "    x = data[i]\n",
        "    output[i] = [1, x][:k + 1]\n",
        "  return output"
      ],
      "metadata": {
        "id": "3rkHAd67IbQt"
      },
      "execution_count": null,
      "outputs": []
    },
    {
      "cell_type": "code",
      "source": [
        "def lin_reg(X, y):\n",
        "  inversed = np.linalg.inv(X.transpose().dot(X))\n",
        "  w = inversed.dot(X.transpose()).dot(y)\n",
        "  return w"
      ],
      "metadata": {
        "id": "6KQl4kqCI6h2"
      },
      "execution_count": null,
      "outputs": []
    },
    {
      "cell_type": "code",
      "source": [
        "ps = [math.sqrt(math.sqrt(3) + 4), math.sqrt(math.sqrt(3) - 1), math.sqrt(9 + 4 * math.sqrt(6)), math.sqrt(9 - math.sqrt(6))]\n",
        "\n",
        "for p in ps:\n",
        "  data = [[-1, 0], [p, 1], [1, 0]]\n",
        "  h0 = 0\n",
        "  h1 = 0\n",
        "  for i in range(3):\n",
        "    train_data = np.array(data[:i] + data[i+1:])\n",
        "    test_data = np.array([data[i]])\n",
        "    X_train, y_train = train_data[:, 0], train_data[:, 1]\n",
        "    X_test, y_test = test_data[:, 0], test_data[:, 1]\n",
        "\n",
        "    X_train_0 = small_transform(X_train, 0)\n",
        "    X_test_0 = small_transform(X_test, 0)\n",
        "    w = lin_reg(X_train_0, y_train)\n",
        "    error0 = (X_test_0.dot(w) - y_test) ** 2\n",
        "    h0 += error0[0]\n",
        "\n",
        "    X_train_1 = small_transform(X_train, 1)\n",
        "    X_test_1 = small_transform(X_test, 1)\n",
        "    w = lin_reg(X_train_1, y_train)\n",
        "    error1 = (X_test_1.dot(w) - y_test) ** 2\n",
        "    h1 += error1[0]\n",
        "\n",
        "  h0 /= len(data)\n",
        "  h1 /= len(data)\n",
        "  print(f\"p = {p}:\")\n",
        "  print(f\"h0: {h0}\")\n",
        "  print(f\"h1: {h1}\\n\")\n"
      ],
      "metadata": {
        "colab": {
          "base_uri": "https://localhost:8080/"
        },
        "id": "lxtF9x5EHj9j",
        "outputId": "77339f63-f8e7-40d9-a3ac-83a6bc74aca8"
      },
      "execution_count": null,
      "outputs": [
        {
          "output_type": "stream",
          "name": "stdout",
          "text": [
            "p = 2.3941701709713277:\n",
            "h0: 0.5\n",
            "h1: 1.1350433676859402\n",
            "\n",
            "p = 0.8555996771673521:\n",
            "h0: 0.5\n",
            "h1: 64.66494840795316\n",
            "\n",
            "p = 4.335661307243996:\n",
            "h0: 0.5\n",
            "h1: 0.5\n",
            "\n",
            "p = 2.5593964634688433:\n",
            "h0: 0.5\n",
            "h1: 0.9868839293305474\n",
            "\n"
          ]
        }
      ]
    },
    {
      "cell_type": "markdown",
      "source": [
        "7. c. The linear model would use an equation in the form of y = mx + b. The error would be the mean squared error of the equation and the point that was not included. The process is repeated for all three points. The constant model would use a y = b equation where b is calculated as the average of two points. This process is also repeated three times for the three points. After plugging in all answer choices, c was the same for both."
      ],
      "metadata": {
        "id": "4Kz1YqjTy8-q"
      }
    },
    {
      "cell_type": "markdown",
      "source": [
        "# PLA vs SVM"
      ],
      "metadata": {
        "id": "BHD3KXmpyrIG"
      }
    },
    {
      "cell_type": "code",
      "source": [
        "import numpy as np\n",
        "import random as rnd\n",
        "import matplotlib.pyplot as plt\n",
        "from sklearn import svm\n",
        "%matplotlib inline"
      ],
      "metadata": {
        "id": "sOxLwoBak_8g"
      },
      "execution_count": null,
      "outputs": []
    },
    {
      "cell_type": "code",
      "source": [
        "def line():\n",
        "    [x1,x2,y1,y2] = [rnd.uniform(-1.0, 1.0), rnd.uniform(-1.0, 1.0), rnd.uniform(-1.0, 1.0), rnd.uniform(-1.0, 1.0)]\n",
        "    xA,yA,xB,yB = [rnd.uniform(-1, 1) for i in range(4)]\n",
        "    w = np.array([x2*y1-y2*x1, y2-y1, x1-x2])\n",
        "    w_norm = np.array([1, -w[1]/w[2], -w[0]/w[2]])\n",
        "    return w, w_norm"
      ],
      "metadata": {
        "id": "uqAZ04MPLpr2"
      },
      "execution_count": null,
      "outputs": []
    },
    {
      "cell_type": "code",
      "source": [
        "def pts(n, d, w=None, w_norm=None):\n",
        "    if w is None:\n",
        "        w, w_norm = line()\n",
        "    y = [1]\n",
        "    while len(set(y)) <= 1:\n",
        "        d_ = np.random.uniform(-1.0, 1.0,(d,n))\n",
        "        x_ = np.append(np.ones(n), d_).reshape((d+1,n))\n",
        "        y = np.sign(np.dot(w.T,x_))\n",
        "        d_ = np.append(x_, y).reshape((d+2,n))\n",
        "    return x_, y, w, d_, w_norm"
      ],
      "metadata": {
        "id": "6ILcgcT-LmyH"
      },
      "execution_count": null,
      "outputs": []
    },
    {
      "cell_type": "code",
      "source": [
        "def get_pt(y_, y):\n",
        "    mc_pts = []\n",
        "    for i in range(len(y)):\n",
        "        if y_[i] != y[i]:\n",
        "            mc_pts.append(i)\n",
        "    try:\n",
        "        index = rnd.choice(mc_pts)\n",
        "    except IndexError:\n",
        "        index = 0\n",
        "\n",
        "    return index, len(mc_pts)\n",
        "\n",
        "def update(xi, yi_, w_):\n",
        "    return w_ + yi_ * xi"
      ],
      "metadata": {
        "id": "Ry4y0bKblD2V"
      },
      "execution_count": null,
      "outputs": []
    },
    {
      "cell_type": "code",
      "source": [
        "def pre_process(n, d):\n",
        "    x_, y, w, d_, w_n = pts(n,d)\n",
        "    return x_, y, w, d_, w_n"
      ],
      "metadata": {
        "id": "TaAxS0R7lJRv"
      },
      "execution_count": null,
      "outputs": []
    },
    {
      "cell_type": "code",
      "source": [
        "def pla(x_, y):\n",
        "    w_ = np.zeros(3)\n",
        "    y_ = np.sign(np.dot(w_.T,x_))\n",
        "\n",
        "    while np.array_equal(y, y_) != True:\n",
        "        index, total_mc_pts= get_pt(y_,y)\n",
        "        w_ = update(x_[:,index], y[index], w_)\n",
        "        y_ = np.sign(np.dot(w_.T, x_))\n",
        "\n",
        "    w_n = np.array([1, -w_[1]/w_[2], -w_[0]/w_[2]])\n",
        "\n",
        "    return i, w_n, w_"
      ],
      "metadata": {
        "id": "ZED_xGWDlK3N"
      },
      "execution_count": null,
      "outputs": []
    },
    {
      "cell_type": "code",
      "source": [
        "pla_disagreement = []\n",
        "svm_disagreement = []\n",
        "sv = []\n",
        "n = 100\n",
        "d = 2\n",
        "\n",
        "for i in range(1000):\n",
        "    x_, y, w, d_, w_n = pre_process(n, d)\n",
        "    _, w_n_, w_ = pla(x_, y)\n",
        "    clf = svm.SVC(C=1000000, kernel='linear')\n",
        "    clf.fit(x_[1:].T, y)\n",
        "\n",
        "    x_, y, _, _, _ = pts(10000, d, w, w_n)\n",
        "    y_ = np.sign(np.dot(w_.T,x_))\n",
        "    zzz, nmc = get_pt(y_, y)\n",
        "\n",
        "    pla_disagreement.append(nmc)\n",
        "\n",
        "    y_ = clf.predict(x_[1:].T)\n",
        "    zzz, nmc = get_pt(y_, y)\n",
        "\n",
        "    svm_disagreement.append(nmc)\n",
        "\n",
        "    sv.append(len(clf.support_vectors_))\n",
        "\n",
        "diff = np.array(svm_disagreement) - np.array(pla_disagreement)\n",
        "percentage = sum(1 for number in diff if number < 0)/float(len(diff))\n",
        "\n",
        "print(f'percentage improvement: {percentage}')"
      ],
      "metadata": {
        "colab": {
          "base_uri": "https://localhost:8080/"
        },
        "id": "-qmhfmLClMpD",
        "outputId": "c2b499a7-7cf0-407f-e099-682d919f1d89"
      },
      "execution_count": null,
      "outputs": [
        {
          "output_type": "stream",
          "name": "stdout",
          "text": [
            "percentage improvement over pla: 0.644\n"
          ]
        }
      ]
    },
    {
      "cell_type": "markdown",
      "source": [
        "8. c"
      ],
      "metadata": {
        "id": "UgK2evmNzBBz"
      }
    },
    {
      "cell_type": "code",
      "source": [
        "from sklearn import svm\n",
        "\n",
        "pla_disagreement = []\n",
        "svm_disagreement = []\n",
        "n = 100\n",
        "d = 2\n",
        "\n",
        "for i in range(1000):\n",
        "    x_, y, w, d_, w_n = pre_process(n, d)\n",
        "    _, w_n_, w_ = pla(x_, y)\n",
        "    clf = svm.SVC(C=1000000, kernel='linear')\n",
        "    clf.fit(x_[1:].T, y)\n",
        "\n",
        "    x_, y, _, _, _ = pts(10000, d, w, w_n)\n",
        "    y_ = np.sign(np.dot(w_.T,x_))\n",
        "    zzz, nmc = get_pt(y_, y)\n",
        "\n",
        "    pla_disagreement.append(nmc)\n",
        "\n",
        "    y_ = clf.predict(x_[1:].T)\n",
        "    zzz, nmc = get_pt(y_, y)\n",
        "\n",
        "    svm_disagreement.append(nmc)\n",
        "\n",
        "diff = np.array(svm_disagreement) - np.array(pla_disagreement)\n",
        "percentage = sum(1 for number in diff if number < 0)/float(len(diff))\n",
        "\n",
        "print(f'percentage improvement: {percentage}')"
      ],
      "metadata": {
        "colab": {
          "base_uri": "https://localhost:8080/"
        },
        "id": "32WEdCIsoIyL",
        "outputId": "047fadec-d981-4adb-ed2f-473a9f5cb496"
      },
      "execution_count": null,
      "outputs": [
        {
          "output_type": "stream",
          "name": "stdout",
          "text": [
            "percentage improvement over PLA: 0.624\n"
          ]
        }
      ]
    },
    {
      "cell_type": "markdown",
      "source": [
        "9. d"
      ],
      "metadata": {
        "id": "S8XVN_UyzBx8"
      }
    },
    {
      "cell_type": "code",
      "source": [
        "avg = sum(sv)/float(len(sv))\n",
        "print(f'average support vectors: {avg}')"
      ],
      "metadata": {
        "colab": {
          "base_uri": "https://localhost:8080/"
        },
        "id": "F9izVpL4otYB",
        "outputId": "54b7211d-d183-4b6d-a302-b3e182443f55"
      },
      "execution_count": null,
      "outputs": [
        {
          "output_type": "stream",
          "name": "stdout",
          "text": [
            "average support vectors: 2.997\n"
          ]
        }
      ]
    },
    {
      "cell_type": "markdown",
      "source": [
        "10. b"
      ],
      "metadata": {
        "id": "s9VWh5a-zKJF"
      }
    }
  ]
}