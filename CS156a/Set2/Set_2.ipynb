{
  "nbformat": 4,
  "nbformat_minor": 0,
  "metadata": {
    "colab": {
      "provenance": []
    },
    "kernelspec": {
      "name": "python3",
      "display_name": "Python 3"
    },
    "language_info": {
      "name": "python"
    }
  },
  "cells": [
    {
      "cell_type": "code",
      "execution_count": null,
      "metadata": {
        "id": "IKo5ldOAffst"
      },
      "outputs": [],
      "source": [
        "import random\n",
        "import matplotlib.pyplot as plt\n",
        "import numpy as np"
      ]
    },
    {
      "cell_type": "markdown",
      "source": [
        "# Hoeffding Inequality"
      ],
      "metadata": {
        "id": "2h1vEnnpRt8g"
      }
    },
    {
      "cell_type": "code",
      "source": [
        "def flip_1000():\n",
        "  result = []\n",
        "  all_coins = []\n",
        "\n",
        "  lowest_freq = 1.0\n",
        "  c_1_index = 0\n",
        "  c_min_index = 0\n",
        "  c_rand_index = random.randint(0,999)\n",
        "\n",
        "  # Flip 1000 coins\n",
        "  for x in range(1000):\n",
        "    # For each coin\n",
        "    curr_coin = []\n",
        "    curr_headcount = 0\n",
        "    # Flip 10 times\n",
        "    for x in range(10):\n",
        "      flip = random.randint(0,1)\n",
        "      # If heads, increment headcount\n",
        "      if(flip == 1):\n",
        "        curr_headcount += 1\n",
        "      # Add the flip to the coin\n",
        "      curr_coin.append(flip)\n",
        "    # if the curr_coin frequency is less than the lowest, update it\n",
        "    if((curr_headcount / 10.0) < lowest_freq):\n",
        "      lowest_freq = (curr_headcount / 10.0)\n",
        "      c_min_index = x\n",
        "    # Add the current coin to all the coins\n",
        "    all_coins.append(curr_coin)\n",
        "  c_1 = all_coins[c_1_index]\n",
        "  c_rand = all_coins[c_rand_index]\n",
        "  c_min = all_coins[c_min_index]\n",
        "\n",
        "  v_1 = c_1.count(1) / 10.0\n",
        "  v_rand = c_rand.count(1) / 10.0\n",
        "  v_min = lowest_freq\n",
        "\n",
        "  return v_1, v_rand, v_min"
      ],
      "metadata": {
        "id": "jBbUfVLnftBm"
      },
      "execution_count": null,
      "outputs": []
    },
    {
      "cell_type": "code",
      "source": [
        "all_v_1 = []\n",
        "all_v_rand = []\n",
        "all_v_min = []\n",
        "\n",
        "n = 10000\n",
        "for x in range(n):\n",
        "  v_1, v_rand, v_min = flip_1000()\n",
        "  all_v_1.append(v_1)\n",
        "  all_v_rand.append(v_rand)\n",
        "  all_v_min.append(v_min)\n",
        "\n",
        "v_min_avg = sum(all_v_min) / n\n",
        "print(f'Average Value of v_min: {v_min_avg}\\n\\n')\n",
        "print(\"V_1, V_rand, V_min Distributions\\n\")\n",
        "\n",
        "fig, axis = plt.subplots(3)\n",
        "\n",
        "axis[0].hist(all_v_1, bins=np.linspace(0, 10, 11)/10)\n",
        "# axis[0].title(\"V_1 Distribution\")\n",
        "\n",
        "axis[1].hist(all_v_rand, bins=np.linspace(0, 10, 11)/10)\n",
        "# axis[1].title(\"V_rand Distribution\")\n",
        "\n",
        "axis[2].hist(all_v_min, bins=np.linspace(0, 10, 11)/10)\n",
        "# axis[2].title(\"V_min Distribution\")\n",
        "\n",
        "plt.xlabel(\"Percentage of Heads\")\n",
        "plt.show()"
      ],
      "metadata": {
        "colab": {
          "base_uri": "https://localhost:8080/",
          "height": 507
        },
        "id": "AR3LBJhzgu6R",
        "outputId": "e77f5cf1-197d-4635-ff26-188bcfe2c9ce"
      },
      "execution_count": null,
      "outputs": [
        {
          "output_type": "stream",
          "name": "stdout",
          "text": [
            "Average Value of v_min: 0.03747000000000167\n",
            "\n",
            "\n",
            "V_1, V_rand, V_min Distributions\n",
            "\n"
          ]
        },
        {
          "output_type": "display_data",
          "data": {
            "text/plain": [
              "<Figure size 640x480 with 3 Axes>"
            ],
            "image/png": "[encoded data removed]"
          },
          "metadata": {}
        }
      ]
    },
    {
      "cell_type": "markdown",
      "source": [
        "**1. b**\n",
        "the average value of v_min is closest to 0.01."
      ],
      "metadata": {
        "id": "RDK4c5oZRBs5"
      }
    },
    {
      "cell_type": "markdown",
      "source": [
        "**2. d**\n",
        "For the distribution to satisfy the single-bin Hoeffding Inequality, it must be binomial. Only v_1 and v_rand satisfy this requirement."
      ],
      "metadata": {
        "id": "g_E6KT9oRMtI"
      }
    },
    {
      "cell_type": "markdown",
      "source": [
        "# Error and Noise"
      ],
      "metadata": {
        "id": "ARZcK_TgRotw"
      }
    },
    {
      "cell_type": "markdown",
      "source": [
        "**3. e**\n",
        "Let $\\mu$ = the probability that $h$ makes an error in approximating $f$ and $λ$ = the probability that y = $f(x)$. There are two cases in which an error occurs.\n",
        "1. $h$ makes an error, but y is correct.\n",
        "2. $h$ does not make an error, but y is incorrect.\n",
        "\n",
        "The probability of case 1 occuring is $\\mu*λ$. The probability of case 2 occuring is $(1-\\mu)*(1-λ)$. Thus, the total probability of error is $(\\mu*λ)+(1-\\mu)*(1-λ)$"
      ],
      "metadata": {
        "id": "Qbd5KDbdSYcq"
      }
    },
    {
      "cell_type": "markdown",
      "source": [
        "**4. b**\n",
        "If we expand the previous equation, we get $P = \\muλ + (1-\\mu-λ+\\muλ) = 1 - \\mu - λ + 2\\muλ$. Rearranging the equation such that $\\mu$ terms are together, we get $P = 1-λ + \\mu(2λ-1)$. For the performace of $h$ to be independent of $\\mu$, we can plug in $λ = 0.5$. From this, we get $P = 1 - 0.5 = 0.5$"
      ],
      "metadata": {
        "id": "VKybd6_0Tn4f"
      }
    },
    {
      "cell_type": "markdown",
      "source": [
        "# Linear Regression"
      ],
      "metadata": {
        "id": "7-heits5VHtg"
      }
    },
    {
      "cell_type": "code",
      "source": [
        "from sklearn.linear_model import LinearRegression\n",
        "import random\n",
        "import math"
      ],
      "metadata": {
        "id": "USLjmtqnVbfv"
      },
      "execution_count": null,
      "outputs": []
    },
    {
      "cell_type": "code",
      "source": [
        "def get_rand_points():\n",
        "  p1 = (random.uniform(-1,1), random.uniform(-1,1))\n",
        "  p2 = (random.uniform(-1,1), random.uniform(-1,1))\n",
        "  return p1, p2\n",
        "\n",
        "def get_target_function():\n",
        "  p1, p2 = get_rand_points()\n",
        "  slope = (p2[1] - p1[1]) / (p2[0] - p1[0])\n",
        "  intercept = p2[1] - (slope * p2[0])\n",
        "  return (slope, intercept)\n"
      ],
      "metadata": {
        "id": "VzejNPhDViI9"
      },
      "execution_count": null,
      "outputs": []
    },
    {
      "cell_type": "code",
      "source": [
        "n = 100\n",
        "runs = 1000\n",
        "\n",
        "g = []\n",
        "E_in = []\n",
        "for i in range(runs):\n",
        "    p1, p2 = get_rand_points()\n",
        "    tar_func = get_target_function()\n",
        "    m = tar_func[0]\n",
        "    b = tar_func[1]\n",
        "\n",
        "    x = np.random.uniform(-1, 1, size=(n,2))\n",
        "\n",
        "    def y_func(x:np.ndarray):\n",
        "        return np.sign(m*x[0]-x[1]+b).astype(int)\n",
        "\n",
        "    y = np.apply_along_axis(y_func, 1, x)\n",
        "\n",
        "    model = LinearRegression().fit(x, y)\n",
        "    g.append(model)\n",
        "\n",
        "    eIn = np.bincount(np.sign(model.predict(x)).astype(int) == y)[0] / len(x)\n",
        "    E_in.append(eIn)\n",
        "\n",
        "sum(E_in) / runs"
      ],
      "metadata": {
        "colab": {
          "base_uri": "https://localhost:8080/"
        },
        "id": "EX5BoQlCagFG",
        "outputId": "43f35c45-ded6-4fcf-9ff5-625211426b91"
      },
      "execution_count": null,
      "outputs": [
        {
          "output_type": "execute_result",
          "data": {
            "text/plain": [
              "0.03978000000000008"
            ]
          },
          "metadata": {},
          "execution_count": 86
        }
      ]
    },
    {
      "cell_type": "markdown",
      "source": [
        "**5. c**\n",
        "The output is closest to 0.01."
      ],
      "metadata": {
        "id": "iUnR7rYv_ije"
      }
    },
    {
      "cell_type": "code",
      "source": [
        "runs = 1000\n",
        "E_out = []\n",
        "\n",
        "for _ in range(runs):\n",
        "    p1, p2 = get_rand_points()\n",
        "    tar_func = get_target_function()\n",
        "    m = tar_func[0]\n",
        "    b = tar_func[1]\n",
        "    x = np.random.uniform(-1, 1, size=(n,2))\n",
        "\n",
        "    def y_func(x:np.ndarray):\n",
        "        return np.sign(m*x[0]-x[1]+b).astype(int)\n",
        "\n",
        "    y = np.apply_along_axis(y_func, 1, x)\n",
        "\n",
        "    model = LinearRegression().fit(x, y)\n",
        "\n",
        "    new_points = 1000\n",
        "    x_new = np.random.uniform(-1, 1, size=(new_points, 2))\n",
        "    y_new = np.apply_along_axis(y_func, 1, x_new)\n",
        "\n",
        "    eOut = np.bincount(np.sign(model.predict(x_new)).astype(int) == y_new)[0] / len(x_new)\n",
        "    E_out.append(eOut)\n",
        "\n",
        "sum(E_out) / runs"
      ],
      "metadata": {
        "colab": {
          "base_uri": "https://localhost:8080/"
        },
        "id": "lHkeoy4l_gi-",
        "outputId": "8544ac30-7d32-4a45-d80b-37ace7ce273a"
      },
      "execution_count": null,
      "outputs": [
        {
          "output_type": "execute_result",
          "data": {
            "text/plain": [
              "0.04930399999999996"
            ]
          },
          "metadata": {},
          "execution_count": 87
        }
      ]
    },
    {
      "cell_type": "markdown",
      "source": [
        "**6. c**\n",
        "The output is closest to 0.01."
      ],
      "metadata": {
        "id": "ltqHNedfBFlM"
      }
    },
    {
      "cell_type": "code",
      "source": [
        "def g(point: np.ndarray, weights: np.ndarray) -> int:\n",
        "    return np.sign( np.dot( np.transpose(weights), point ) ).astype(int)\n",
        "\n",
        "def converges():\n",
        "    for i,point in enumerate(XWithBias):\n",
        "        if g(point, linear_regression_weights) != Y[i]:\n",
        "            return False\n",
        "    numIterationsList.append(counter)"
      ],
      "metadata": {
        "id": "vwOLfYn7Hpqp"
      },
      "execution_count": null,
      "outputs": []
    },
    {
      "cell_type": "code",
      "source": [
        "n = 10\n",
        "runs = 1000\n",
        "\n",
        "numIterationsList = []\n",
        "\n",
        "for _ in range(runs):\n",
        "    p1, p2 = get_rand_points()\n",
        "    tar_func = get_target_function()\n",
        "    m = tar_func[0]\n",
        "    b = tar_func[1]\n",
        "\n",
        "    weightsForF = np.array([b, m, -1])\n",
        "    X = np.random.uniform(-1, 1, size=(n,2))\n",
        "    XWithBias = np.insert(x, 0, 1, axis=1)\n",
        "    Y = np.sign(np.dot(XWithBias, weightsForF))\n",
        "\n",
        "    XDagger = np.dot(np.linalg.inv(np.dot(XWithBias.T, XWithBias)), XWithBias.T)\n",
        "    linear_regression_weights = np.dot(XDagger, Y)\n",
        "\n",
        "    counter = 0\n",
        "    while not converges():\n",
        "        counter += 1\n",
        "        correctNs = []\n",
        "        wrongNs = []\n",
        "\n",
        "        for i,point in enumerate(XWithBias):\n",
        "            if g(point,linear_regression_weights) == y[i]:\n",
        "                correctNs.append(i)\n",
        "            else:\n",
        "                wrongNs.append(i)\n",
        "\n",
        "        if len(wrongNs) == 0:\n",
        "          break\n",
        "        updateN = random.choice(wrongNs)\n",
        "\n",
        "        for i,weight in enumerate(linear_regression_weights):\n",
        "            linear_regression_weights[i] = linear_regression_weights[i] + y[updateN] * XWithBias[updateN][i]\n",
        "\n",
        "avg_runs = sum(numIterationsList)/runs\n",
        "print(f'Average runs until conversion : {avg_runs}')"
      ],
      "metadata": {
        "colab": {
          "base_uri": "https://localhost:8080/"
        },
        "id": "ZO9ZFT2lBIJL",
        "outputId": "bbf23215-fb7f-43f9-c1ad-24f56d56861d"
      },
      "execution_count": null,
      "outputs": [
        {
          "output_type": "stream",
          "name": "stdout",
          "text": [
            "Average runs until conversion : 2.381\n"
          ]
        }
      ]
    },
    {
      "cell_type": "markdown",
      "source": [
        "**7. a**\n",
        "The output is closest to 1."
      ],
      "metadata": {
        "id": "aegf_mGdDjFi"
      }
    },
    {
      "cell_type": "markdown",
      "source": [
        "# Nonlinear Transformation"
      ],
      "metadata": {
        "id": "oang8R22Fyf7"
      }
    },
    {
      "cell_type": "code",
      "source": [
        "def f(x:np.ndarray):\n",
        "    return np.sign(x[0]**2+x[1]**2-0.6).astype(int)"
      ],
      "metadata": {
        "id": "c0amZhQzH1jE"
      },
      "execution_count": null,
      "outputs": []
    },
    {
      "cell_type": "code",
      "source": [
        "n = 1000\n",
        "X = np.random.uniform(-1, 1, size=(n,2))\n",
        "Y = np.apply_along_axis(f, 1, X)\n",
        "\n",
        "noisyIdxs = np.random.choice(n, int(n/10), replace=False)\n",
        "for i in noisyIdxs:\n",
        "    Y[i] = np.negative(Y[i])\n",
        "\n",
        "XWithBias = np.insert(X, 0, 1, axis=1)\n",
        "XDagger = np.dot(np.linalg.inv(np.dot(XWithBias.T, XWithBias)), XWithBias.T)\n",
        "weightsFromLinearRegression = np.dot(XDagger, Y)\n",
        "YPred = np.sign(np.dot(XWithBias, weightsFromLinearRegression))\n"
      ],
      "metadata": {
        "id": "mqcOyNTCELpC"
      },
      "execution_count": null,
      "outputs": []
    },
    {
      "cell_type": "code",
      "source": [
        "runs = 1000\n",
        "eIns = []\n",
        "\n",
        "for _ in range(runs):\n",
        "    X = np.random.uniform(-1, 1, size=(n,2))\n",
        "    def f(x:np.ndarray):\n",
        "        return np.sign(x[0]**2+x[1]**2-0.6).astype(int)\n",
        "    Y = np.apply_along_axis(f, 1, X)\n",
        "\n",
        "    # Simulate noise by flipping sign in random 10% of Y\n",
        "    noisyIdxs = np.random.choice(n, int(n/10), replace=False)\n",
        "    for i in noisyIdxs:\n",
        "        Y[i] = np.negative(Y[i])\n",
        "\n",
        "    XWithBias = np.insert(X, 0, 1, axis=1)\n",
        "\n",
        "    # Let's apply linear regression\n",
        "    XDagger = np.dot(np.linalg.inv(np.dot(XWithBias.T, XWithBias)), XWithBias.T)\n",
        "    weightsFromLinearRegression = np.dot(XDagger, Y)\n",
        "\n",
        "    # Make predictions from our linear regression weights\n",
        "    YPred = np.sign(np.dot(XWithBias, weightsFromLinearRegression))\n",
        "\n",
        "    # And check how many we errorz\n",
        "    eIn = sum(YPred != Y) / n\n",
        "    eIns.append(eIn)\n",
        "\n",
        "avg_e_in = sum(eIns)/runs\n",
        "print(f'\\nEstimated eIn avg: {avg_e_in}')"
      ],
      "metadata": {
        "colab": {
          "base_uri": "https://localhost:8080/"
        },
        "id": "mkLaEB-kENW-",
        "outputId": "0264d265-d7e1-4f86-da91-f7cd053ef0c6"
      },
      "execution_count": null,
      "outputs": [
        {
          "output_type": "stream",
          "name": "stdout",
          "text": [
            "\n",
            "Estimated eIn avg: 0.5056669999999998\n"
          ]
        }
      ]
    },
    {
      "cell_type": "markdown",
      "source": [
        "**8. d**\n",
        "The output is closest to 0.5."
      ],
      "metadata": {
        "id": "9jAQNKSCEvRU"
      }
    },
    {
      "cell_type": "code",
      "source": [
        "n = 1000\n",
        "runs = 1000\n",
        "\n",
        "e_In_A = []\n",
        "e_In_B = []\n",
        "e_In_C = []\n",
        "e_In_D = []\n",
        "e_In_E = []\n",
        "\n",
        "weightsA = np.array([-1, -0.05, 0.08, 0.13, 1.5, 1.5])\n",
        "weightsB = np.array([-1, -0.05, 0.08, 0.13, 1.5, 15])\n",
        "weightsC = np.array([-1, -0.05, 0.08, 0.13, 15, 1.5])\n",
        "weightsD = np.array([-1, -1.5, 0.08, 0.13, 0.05, 0.05])\n",
        "weightsE = np.array([-1, -0.05, 0.08, 1.5, 0.15, 0.15])\n",
        "\n",
        "def get_e_in(weights, X, YLinReg):\n",
        "  y = np.sign(np.dot(X, weights))\n",
        "  e_in = sum(y != YLinReg) / n\n",
        "  return e_in\n",
        "\n",
        "for _ in range(runs):\n",
        "    X = np.random.uniform(-1, 1, size=(n,2))\n",
        "    x1s = X[:,0]\n",
        "    x2s = X[:,1]\n",
        "\n",
        "    Y = np.apply_along_axis(f, 1, X)\n",
        "    X = np.array([ np.ones(n), x1s, x2s, x1s*x2s, x1s**2, x2s**2 ]).T\n",
        "\n",
        "    XDagger = np.dot(np.linalg.inv(np.dot(X.T, X)), X.T)\n",
        "    linRegWeights = np.dot(XDagger, Y)\n",
        "    YLinReg = np.sign(np.dot(X, linRegWeights))\n",
        "\n",
        "\n",
        "    eInA = get_e_in(weightsA, X, YLinReg)\n",
        "    eInB = get_e_in(weightsB, X, YLinReg)\n",
        "    eInC = get_e_in(weightsC, X, YLinReg)\n",
        "    eInD = get_e_in(weightsD, X, YLinReg)\n",
        "    eInE = get_e_in(weightsE, X, YLinReg)\n",
        "\n",
        "    e_In_A.append(eInA)\n",
        "    e_In_B.append(eInB)\n",
        "    e_In_C.append(eInC)\n",
        "    e_In_D.append(eInD)\n",
        "    e_In_E.append(eInE)\n",
        "\n",
        "print(f'A: {sum(e_In_A)/runs}\\n')\n",
        "print(f'B: {sum(e_In_B)/runs}\\n')\n",
        "print(f'C: {sum(e_In_C)/runs}\\n')\n",
        "print(f'D: {sum(e_In_D)/runs}\\n')\n",
        "print(f'E: {sum(e_In_E)/runs}\\n')"
      ],
      "metadata": {
        "colab": {
          "base_uri": "https://localhost:8080/"
        },
        "id": "OcMMOJq-ExvQ",
        "outputId": "3854974c-c9a7-454a-c3d0-23f809afb73c"
      },
      "execution_count": null,
      "outputs": [
        {
          "output_type": "stream",
          "name": "stdout",
          "text": [
            "A: 0.03331399999999993\n",
            "\n",
            "B: 0.3360840000000005\n",
            "\n",
            "C: 0.3363100000000004\n",
            "\n",
            "D: 0.3684570000000002\n",
            "\n",
            "E: 0.4400480000000002\n",
            "\n"
          ]
        }
      ]
    },
    {
      "cell_type": "markdown",
      "source": [
        "**9. a**\n",
        "A is closest."
      ],
      "metadata": {
        "id": "QNG-TsXRE_JJ"
      }
    },
    {
      "cell_type": "code",
      "source": [
        "def f(x:np.ndarray):\n",
        "    return np.sign(x[0]**2+x[1]**2-0.6).astype(int)"
      ],
      "metadata": {
        "id": "9wxV_y5lIAnd"
      },
      "execution_count": null,
      "outputs": []
    },
    {
      "cell_type": "code",
      "source": [
        "n = 1000\n",
        "runs = 1000\n",
        "\n",
        "eOuts = []\n",
        "weights = np.array([-1, -0.05, 0.08, 0.13, 1.5, 1.5])\n",
        "for _ in range(runs):\n",
        "    X = np.random.uniform(-1, 1, size=(n,2))\n",
        "    x1s = X[:,0]\n",
        "    x2s = X[:,1]\n",
        "\n",
        "    Y = np.apply_along_axis(f, 1, X)\n",
        "\n",
        "    noisyIdxs = np.random.choice(n, int(N/10), replace=False)\n",
        "    for i in noisyIdxs:\n",
        "        Y[i] = np.negative(Y[i])\n",
        "\n",
        "    X = np.array([ np.ones(n), x1s, x2s, x1s*x2s, x1s**2, x2s**2 ]).T\n",
        "    YPred = np.sign(np.dot(X, weights))\n",
        "\n",
        "\n",
        "    eOut = sum(YPred != Y) / n\n",
        "    eOuts.append(eOut)\n",
        "\n",
        "e_out = sum(eOuts) / runs\n",
        "print(f'Estimated eOut : {e_out}')"
      ],
      "metadata": {
        "colab": {
          "base_uri": "https://localhost:8080/"
        },
        "id": "379HF5z8FBd3",
        "outputId": "8ad53904-bec2-4649-9f50-f19c936b4811"
      },
      "execution_count": null,
      "outputs": [
        {
          "output_type": "stream",
          "name": "stdout",
          "text": [
            "Estimated eOut : 0.14257200000000023\n"
          ]
        }
      ]
    },
    {
      "cell_type": "markdown",
      "source": [
        "**10. b**\n",
        "The output is closest to 0.1."
      ],
      "metadata": {
        "id": "XnP5kEGnFFxK"
      }
    }
  ]
}