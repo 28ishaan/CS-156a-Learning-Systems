{
  "nbformat": 4,
  "nbformat_minor": 0,
  "metadata": {
    "colab": {
      "provenance": []
    },
    "kernelspec": {
      "name": "python3",
      "display_name": "Python 3"
    },
    "language_info": {
      "name": "python"
    }
  },
  "cells": [
    {
      "cell_type": "code",
      "execution_count": null,
      "metadata": {
        "id": "NvbcSHkuqZQt"
      },
      "outputs": [],
      "source": [
        "import random"
      ]
    },
    {
      "cell_type": "code",
      "source": [
        "def target_function():\n",
        "  p1 = (random.uniform(-1,1), random.uniform(-1,1))\n",
        "  p2 = (random.uniform(-1,1), random.uniform(-1,1))\n",
        "  slope = (p2[1] - p1[1]) / (p2[0] - p1[0])\n",
        "  intercept = p2[1] - (slope * p2[0])\n",
        "  return (slope, intercept)\n",
        "\n",
        "def get_classified_points(n, tar_func):\n",
        "  points = []\n",
        "  for i in range(n):\n",
        "    points.append((random.uniform(-1,1), random.uniform(1,1)))\n",
        "\n",
        "  slope = tar_func[0]\n",
        "  intercept = tar_func[1]\n",
        "  classify = []\n",
        "  for p in points:\n",
        "    x = p[0]\n",
        "    y = p[1]\n",
        "    if(x * slope + intercept > y):\n",
        "      classify.append((p, 1))\n",
        "    else:\n",
        "      classify.append((p, -1))\n",
        "  return classify\n",
        "\n",
        "def update_weights(weight, point, classification):\n",
        "  weight[0] += point[0] * classification\n",
        "  weight[1] += point[1] * classification\n",
        "  weight[2] += classification\n",
        "\n",
        "def determine_weights(weight, point):\n",
        "  result = weight[0] * point[0] + weight[1] * point[1] + weight[2]\n",
        "  if(result > 0):\n",
        "    return 1\n",
        "  else:\n",
        "    return -1;"
      ],
      "metadata": {
        "id": "NTg-CG4-zRlf"
      },
      "execution_count": null,
      "outputs": []
    },
    {
      "cell_type": "code",
      "source": [
        "def PLA(n, tar_func):\n",
        "  converge_count = 0\n",
        "  classifications = get_classified_points(n, tar_func)\n",
        "  init_weight = [0,0,0]\n",
        "  while(len(classifications) > 0):\n",
        "    converge_count += 1\n",
        "    rand_val = random.choice(classifications)\n",
        "    rand_pt = rand_val[0]\n",
        "    pt_class = rand_val[1]\n",
        "\n",
        "    prediction = determine_weights(init_weight, rand_pt)\n",
        "    if(prediction != pt_class):\n",
        "      update_weights(init_weight, rand_pt, pt_class)\n",
        "    else:\n",
        "      classifications.remove(rand_val)\n",
        "  return init_weight, converge_count"
      ],
      "metadata": {
        "id": "k44yvc7h2Wzq"
      },
      "execution_count": null,
      "outputs": []
    },
    {
      "cell_type": "code",
      "source": [
        "def converge_PLA(n):\n",
        "  num_runs = 1000\n",
        "  total_count = 0;\n",
        "  for i in range(num_runs):\n",
        "    tar_func = target_function()\n",
        "    weight, converge_count = PLA(n, tar_func)\n",
        "    total_count += converge_count\n",
        "  iterations = total_count / num_runs\n",
        "  print(f\"For N = {n}, Avg iterations: {iterations}\")"
      ],
      "metadata": {
        "id": "WMp8wRkI4d--"
      },
      "execution_count": null,
      "outputs": []
    },
    {
      "cell_type": "code",
      "source": [
        "def disagreement(n):\n",
        "  num_runs = 1000\n",
        "  total_count = 0.0\n",
        "  for i in range(num_runs):\n",
        "    run_count = 0\n",
        "    tar_func = target_function()\n",
        "    classifications = get_classified_points(200, tar_func)\n",
        "    weight, converge_count = PLA(n, tar_func)\n",
        "    for (point, classification) in classifications:\n",
        "      classification_val = determine_weights(weight, point)\n",
        "      if(classification_val != classification):\n",
        "        run_count += 1\n",
        "    total_count += (run_count / 200)\n",
        "  print(f\"Avg disagreement for N = {n}: {total_count / num_runs}\")"
      ],
      "metadata": {
        "id": "dJv3Yg-A55UO"
      },
      "execution_count": null,
      "outputs": []
    },
    {
      "cell_type": "code",
      "source": [
        "converge_PLA(10)"
      ],
      "metadata": {
        "colab": {
          "base_uri": "https://localhost:8080/"
        },
        "id": "4NwnaE2b5itn",
        "outputId": "b320a94d-8154-4aa0-a645-80c9ea3b5587"
      },
      "execution_count": null,
      "outputs": [
        {
          "output_type": "stream",
          "name": "stdout",
          "text": [
            "For N = 10, Avg iterations: 11.609\n"
          ]
        }
      ]
    },
    {
      "cell_type": "code",
      "source": [
        "disagreement(10)"
      ],
      "metadata": {
        "colab": {
          "base_uri": "https://localhost:8080/"
        },
        "id": "V4iMVtLv8HDW",
        "outputId": "73937d27-d51a-4f59-f7f7-3d69a7e45ce1"
      },
      "execution_count": null,
      "outputs": [
        {
          "output_type": "stream",
          "name": "stdout",
          "text": [
            "Avg disagreement for N = 10: 0.08280500000000016\n"
          ]
        }
      ]
    },
    {
      "cell_type": "code",
      "source": [
        "converge_PLA(100)"
      ],
      "metadata": {
        "colab": {
          "base_uri": "https://localhost:8080/"
        },
        "id": "MEXUJZmn8-EM",
        "outputId": "b55ccaec-abcf-4081-f0dd-6445ccec0a1f"
      },
      "execution_count": null,
      "outputs": [
        {
          "output_type": "stream",
          "name": "stdout",
          "text": [
            "For N = 100, Avg iterations: 109.186\n"
          ]
        }
      ]
    },
    {
      "cell_type": "code",
      "source": [
        "disagreement(100)"
      ],
      "metadata": {
        "colab": {
          "base_uri": "https://localhost:8080/"
        },
        "id": "lVrWlW2B9Aa2",
        "outputId": "b50aba68-f763-4bac-d1dd-a414e4171071"
      },
      "execution_count": null,
      "outputs": [
        {
          "output_type": "stream",
          "name": "stdout",
          "text": [
            "Avg disagreement for N = 100: 0.04003000000000003\n"
          ]
        }
      ]
    }
  ]
}